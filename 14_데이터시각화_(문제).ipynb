{
  "nbformat": 4,
  "nbformat_minor": 0,
  "metadata": {
    "kernelspec": {
      "display_name": "Python 3",
      "language": "python",
      "name": "python3"
    },
    "language_info": {
      "codemirror_mode": {
        "name": "ipython",
        "version": 3
      },
      "file_extension": ".py",
      "mimetype": "text/x-python",
      "name": "python",
      "nbconvert_exporter": "python",
      "pygments_lexer": "ipython3",
      "version": "3.8.5"
    },
    "colab": {
      "name": "14_데이터시각화 (문제).ipynb",
      "provenance": [],
      "collapsed_sections": [],
      "include_colab_link": true
    }
  },
  "cells": [
    {
      "cell_type": "markdown",
      "metadata": {
        "id": "view-in-github",
        "colab_type": "text"
      },
      "source": [
        "<a href=\"https://colab.research.google.com/github/sudonglee/pymldg-rev/blob/master/14_%EB%8D%B0%EC%9D%B4%ED%84%B0%EC%8B%9C%EA%B0%81%ED%99%94_(%EB%AC%B8%EC%A0%9C).ipynb\" target=\"_parent\"><img src=\"https://colab.research.google.com/assets/colab-badge.svg\" alt=\"Open In Colab\"/></a>"
      ]
    },
    {
      "cell_type": "markdown",
      "metadata": {
        "id": "efL73idr2E5N"
      },
      "source": [
        "# **데이터 시각화 (Data Visualization)**\n",
        "  \n",
        "- 작성자: 이수동 (울산대학교 산업경영공학부 | sudonglee@ulsan.ac.kr)\n",
        "- 최종 업데이트: 2021-10-06"
      ]
    },
    {
      "cell_type": "markdown",
      "metadata": {
        "id": "pkof6Mb02E5R"
      },
      "source": [
        "데이터 시각화를 위한 대표적인 python 라이브러리로는 `matplotlib`과  `seaborn`이 있습니다.\n",
        "- `matplotlib`: 가장 대표적인 library로 `pandas`, `numpy` 등과 호환이 가능하며 널리 사용됩니다.\n",
        "- `seaborn`: `matplotlib`을 기반으로 다양한 색, 테마, 차트 기능을 추가한 라이브러리입니다. "
      ]
    },
    {
      "cell_type": "markdown",
      "metadata": {
        "id": "KLYizTZ02E5S"
      },
      "source": [
        "## __Matplotlib__"
      ]
    },
    {
      "cell_type": "code",
      "metadata": {
        "id": "dlETBku_3VAQ"
      },
      "source": [
        "import matplotlib.pyplot as plt "
      ],
      "execution_count": null,
      "outputs": []
    },
    {
      "cell_type": "code",
      "metadata": {
        "id": "86cjDU3E2E5T"
      },
      "source": [
        "## 데이터 시각화 라이브러리 실행 시 출력되는 경고 메시지를 숨겨줍니다.\n",
        "import warnings\n",
        "warnings.filterwarnings('ignore') \n",
        "\n",
        "# matplotlib으로 출력되는 그림을 노트북 안에 출력합니다. \n",
        "%matplotlib inline"
      ],
      "execution_count": null,
      "outputs": []
    },
    {
      "cell_type": "markdown",
      "metadata": {
        "id": "kkrom5I72E5T"
      },
      "source": [
        "### Figure와 Axes (Image Source | [Blog 어쩐지 오늘은](https://zzsza.github.io/development/2018/08/24/data-visualization-in-python/) )\n",
        "- Figure는 말 그대로 *그림*입니다. 그림 파일을 열었을 때 보이는 그림의 틀을 생각하시면 됩니다.  \n",
        "- Axes는 각 plot이 그려지는 공간입니다.\n",
        "\n",
        "<img src=\"https://www.dropbox.com/s/2n4hgu3db5t8twq/%EC%8A%A4%ED%81%AC%EB%A6%B0%EC%83%B7%202018-08-24%2017.45.14.png?raw=1\" width=\"400\">\n"
      ]
    },
    {
      "cell_type": "markdown",
      "metadata": {
        "id": "GtheE1Y12E5U"
      },
      "source": [
        "### Figure의 구성요소 (Image Source | [Blog 어쩐지 오늘은](https://zzsza.github.io/development/2018/08/24/data-visualization-in-python/) )\n",
        "\n",
        "<img src=\"https://www.dropbox.com/s/oqc1qxb12m8e9hi/%EC%8A%A4%ED%81%AC%EB%A6%B0%EC%83%B7%202018-08-24%2017.03.16.png?raw=1\" width=\"400\">\n"
      ]
    },
    {
      "cell_type": "markdown",
      "metadata": {
        "id": "mXNLWCx82E5U"
      },
      "source": [
        "### figure 생성하기"
      ]
    },
    {
      "cell_type": "code",
      "metadata": {
        "id": "xUBnH_8i2E5V"
      },
      "source": [
        "fig = plt.figure()"
      ],
      "execution_count": null,
      "outputs": []
    },
    {
      "cell_type": "code",
      "metadata": {
        "id": "-4lEBAdI2E5W"
      },
      "source": [
        "plt.title('Figure Title') # 현재 작성 중인 figure의 제목을 입력\n",
        "plt.show() # 현재 작성 중인 figure를 출력"
      ],
      "execution_count": null,
      "outputs": []
    },
    {
      "cell_type": "code",
      "metadata": {
        "id": "m7fn_i1-rbWa"
      },
      "source": [
        "plt.figure(figsize=(14,7)) # figure의 크기를 지정합니다. \n",
        "plt.title(\"Figure Title\") # figure의 제목을 입력합니다. \n",
        "\n",
        "plt.xlabel(\"X\") # figure의 x축 label을 입력합니다. \n",
        "plt.ylabel(\"Y\") # figure의 y축 label을 입력합니다. \n",
        "plt.show() # figure를 출력합니다. "
      ],
      "execution_count": null,
      "outputs": []
    },
    {
      "cell_type": "code",
      "metadata": {
        "id": "WCu-Nr3k2E5X"
      },
      "source": [
        "plt.title('한글 제목')\n",
        "plt.show()"
      ],
      "execution_count": null,
      "outputs": []
    },
    {
      "cell_type": "code",
      "metadata": {
        "id": "jzsSAnp_3a7l"
      },
      "source": [
        "!sudo apt-get install -y fonts-nanum\n",
        "!sudo fc-cache -fv\n",
        "!rm ~/.cache/matplotlib -rf\n",
        "# 설치 후 런타임 재시작"
      ],
      "execution_count": null,
      "outputs": []
    },
    {
      "cell_type": "code",
      "metadata": {
        "id": "Rjjd-J_02E5X"
      },
      "source": [
        "import matplotlib.pyplot as plt\n",
        "plt.rc('font', family='NanumBarunGothic')"
      ],
      "execution_count": null,
      "outputs": []
    },
    {
      "cell_type": "code",
      "metadata": {
        "id": "lQcaWvCP4OrG"
      },
      "source": [
        "plt.title('한글 제목')\n",
        "plt.show()"
      ],
      "execution_count": null,
      "outputs": []
    },
    {
      "cell_type": "markdown",
      "metadata": {
        "id": "PAQ6QPDn2E5X"
      },
      "source": [
        "### **`matplotlib.pyplot.plot()`**"
      ]
    },
    {
      "cell_type": "code",
      "metadata": {
        "id": "fbbiPFoe2E5Y"
      },
      "source": [
        "plt.plot([1, 2, 3, 4])"
      ],
      "execution_count": null,
      "outputs": []
    },
    {
      "cell_type": "code",
      "metadata": {
        "id": "pPYl6c4N2E5Y"
      },
      "source": [
        "plt.plot([10,20,30,40], [1,2,3,4])"
      ],
      "execution_count": null,
      "outputs": []
    },
    {
      "cell_type": "code",
      "metadata": {
        "id": "4aW23DPQKg--"
      },
      "source": [
        "x = [1, 2, 3, 4]\n",
        "y = [2, 4, 6, 8]"
      ],
      "execution_count": null,
      "outputs": []
    },
    {
      "cell_type": "code",
      "metadata": {
        "id": "nYKWkRdT2E5Z"
      },
      "source": [
        "plt.plot(x, y, color='r')"
      ],
      "execution_count": null,
      "outputs": []
    },
    {
      "cell_type": "code",
      "metadata": {
        "id": "C2B2foA42E5Z"
      },
      "source": [
        "plt.plot(x, y, 'r')"
      ],
      "execution_count": null,
      "outputs": []
    },
    {
      "cell_type": "code",
      "metadata": {
        "id": "ffu3kZxQ2E5Z"
      },
      "source": [
        "plt.plot(x, y, 'o')"
      ],
      "execution_count": null,
      "outputs": []
    },
    {
      "cell_type": "code",
      "metadata": {
        "id": "Hput5JxKLF2_"
      },
      "source": [
        "plt.plot(x, y, 'o', color='r')"
      ],
      "execution_count": null,
      "outputs": []
    },
    {
      "cell_type": "code",
      "metadata": {
        "id": "Ffy8siJC2E5Z"
      },
      "source": [
        "plt.plot(x, y, 'ro')"
      ],
      "execution_count": null,
      "outputs": []
    },
    {
      "cell_type": "code",
      "metadata": {
        "id": "Wcf1CmY9L146"
      },
      "source": [
        "plt.plot(x, y, 'o-', color='r')"
      ],
      "execution_count": null,
      "outputs": []
    },
    {
      "cell_type": "markdown",
      "metadata": {
        "id": "FnHux8f72E5a"
      },
      "source": [
        "`matplotlib.pyplot.plot()`에 관한 보다 자세한 내용은 [링크](https://matplotlib.org/2.1.1/api/_as_gen/matplotlib.pyplot.plot.html)를 참고하세요."
      ]
    },
    {
      "cell_type": "markdown",
      "metadata": {
        "id": "u0nszutq2E5a"
      },
      "source": [
        "### **`matplotlib.pyplot.subplots()`**"
      ]
    },
    {
      "cell_type": "code",
      "metadata": {
        "id": "gt-CihNh2E5a"
      },
      "source": [
        "fig, ax = plt.subplots(2, 2, figsize=(8,5))\n",
        "plt.suptitle('Figure')\n",
        "\n",
        "ax[0][0].plot([1, 2, 3, 4], 'ro-')\n",
        "ax[0][0].title.set_text('Figure 1')\n",
        "ax[0][1].plot([1, 2, 3, 4], 'bo--')\n",
        "ax[0][1].title.set_text('Figure 2')\n",
        "ax[1][0].plot([1, 2, 3, 4], 'k*')\n",
        "ax[1][0].title.set_text('Figure 3')\n",
        "ax[1][1].plot([3, 5], [3, 5], 'bo:')\n",
        "ax[1][1].plot([3, 7], [5, 4], 'kx')\n",
        "ax[1][1].title.set_text('Figure 4')\n",
        "plt.subplots_adjust(hspace=.5)\n",
        "plt.show()"
      ],
      "execution_count": null,
      "outputs": []
    },
    {
      "cell_type": "markdown",
      "metadata": {
        "id": "m-T2TBGr2E5b"
      },
      "source": [
        "### `savefig()`"
      ]
    },
    {
      "cell_type": "code",
      "metadata": {
        "id": "tIWC3mls2E5b"
      },
      "source": [
        "# matplotlib으로 작성된 그림을 로컬 파일로 저장할 수 있다. \n",
        "fig.savefig('subplots.png')"
      ],
      "execution_count": null,
      "outputs": []
    },
    {
      "cell_type": "markdown",
      "metadata": {
        "id": "TG6L2z7s2E5b"
      },
      "source": [
        "## __Seaborn__"
      ]
    },
    {
      "cell_type": "code",
      "metadata": {
        "id": "MRhxK0xe2E5b"
      },
      "source": [
        "import seaborn as sns\n",
        "%matplotlib inline"
      ],
      "execution_count": null,
      "outputs": []
    },
    {
      "cell_type": "markdown",
      "metadata": {
        "id": "0Z9W2TBdynyP"
      },
      "source": [
        "### __데이터 불러오기__"
      ]
    },
    {
      "cell_type": "markdown",
      "metadata": {
        "id": "F18XrQemgEml"
      },
      "source": [
        "### **타이타닉 데이터 소개: Data Dictionary**\n",
        "\n",
        "| Variable | Definition\t| Description |\n",
        "| :-: | :-: | :-: |\n",
        "| PassengerId | 승객 ID | |\n",
        "| Survived |\t생존 여부\t| 0 = 사망, 1 = 생존 |\n",
        "| Pclass\t| 티켓 등급 |\t1 = 1st, 2 = 2nd, 3 = 3rd |\n",
        "| Name | 성명 | |\n",
        "| Sex |\t성별 | |\n",
        "| Age |\t나이 |  |\n",
        "| SibSp |\t승선한 형제자매(siblings) 및 배우자(spouses)의 수 |\n",
        "| Parch | 승선한 부모(parents) 및 자식(children)의 수 |\n",
        "| Ticket |\t티켓 번호\t|\n",
        "| Fare | 티켓 가격\t|\n",
        "| Cabin\t| 객실 번호\t|\n",
        "| Embarked\t| 승선 항구 |\tC = Cherbourg, Q = Queenstown, S = Southampton |"
      ]
    },
    {
      "cell_type": "code",
      "metadata": {
        "id": "g57YiSy1b_bm"
      },
      "source": [
        "import pandas as pd\n",
        "!gdown --id 1J9k6l2kzJ_VoWt9Epqy1qlKnMJ_mcTnR # 데이터 다운로드\n",
        "titanic_data = pd.read_csv('train.csv')"
      ],
      "execution_count": null,
      "outputs": []
    },
    {
      "cell_type": "code",
      "metadata": {
        "id": "SMdDlqq42E5c"
      },
      "source": [
        "titanic_data.head()"
      ],
      "execution_count": null,
      "outputs": []
    },
    {
      "cell_type": "markdown",
      "metadata": {
        "id": "h3AoSwA84Yjo"
      },
      "source": [
        "### __히스토그램__(Histogram)"
      ]
    },
    {
      "cell_type": "markdown",
      "metadata": {
        "id": "PFICXitKtsS4"
      },
      "source": [
        "`seaborn`의 `countplot`을 활용하여 카테고리별 빈도수를 나타내는 히스토그램을 작성합니다. "
      ]
    },
    {
      "cell_type": "code",
      "metadata": {
        "id": "cqi9ZMwi6_U7",
        "scrolled": true
      },
      "source": [
        "f = sns.countplot(x='Survived', data=titanic_data)"
      ],
      "execution_count": null,
      "outputs": []
    },
    {
      "cell_type": "markdown",
      "metadata": {
        "id": "9rbL8tJf7C4t"
      },
      "source": [
        "#### ___Exercise #1___\n",
        "타이타닉호에 탑승한 남자와 여자의 수를 나타내는 히스토그램을 그려보세요.\n"
      ]
    },
    {
      "cell_type": "code",
      "metadata": {
        "id": "zsyoNKjf7Mkz",
        "scrolled": true
      },
      "source": [
        "## 코드 작성\n"
      ],
      "execution_count": null,
      "outputs": []
    },
    {
      "cell_type": "markdown",
      "metadata": {
        "id": "o33QI6CPt5ad"
      },
      "source": [
        "`hue` 옵션을 활용하면 여러 계열에 대한 히스토그램을 작성할 수 있습니다."
      ]
    },
    {
      "cell_type": "code",
      "metadata": {
        "id": "5ZC9ln6D7btb",
        "scrolled": true
      },
      "source": [
        "f = sns.countplot(x='Pclass', hue='Survived', data=titanic_data)"
      ],
      "execution_count": null,
      "outputs": []
    },
    {
      "cell_type": "markdown",
      "metadata": {
        "id": "5M4xC1Er8V1Z"
      },
      "source": [
        "#### ___Exercise #2___\n",
        "성별에 따른 생존자 수를 나타내는 히스토그램을 그려보세요."
      ]
    },
    {
      "cell_type": "code",
      "metadata": {
        "id": "vJLrDt3f8g4c",
        "scrolled": true
      },
      "source": [
        "## 코드 작성\n"
      ],
      "execution_count": null,
      "outputs": []
    },
    {
      "cell_type": "markdown",
      "metadata": {
        "id": "97dm8xtxuFTs"
      },
      "source": [
        "### __Figure 편집하기__"
      ]
    },
    {
      "cell_type": "markdown",
      "metadata": {
        "id": "WjL1OJEZuVCJ"
      },
      "source": [
        "`matplotlib.pyplot`의 다양한 옵션을 활용하여 figure를 원하는 대로 편집할 수 있습니다. "
      ]
    },
    {
      "cell_type": "code",
      "metadata": {
        "id": "y9dJDKXfs8E9",
        "scrolled": true
      },
      "source": [
        "f = plt.figure(figsize=(5,3))\n",
        "plt.title('Pclass vs. Survived', fontsize=10)\n",
        "sns.countplot(x='Pclass', hue='Survived', data=titanic_data)\n",
        "plt.show()"
      ],
      "execution_count": null,
      "outputs": []
    },
    {
      "cell_type": "code",
      "metadata": {
        "id": "6kGJzT0F2E5e"
      },
      "source": [
        "f = sns.countplot(x='Embarked', hue='Pclass', data=titanic_data)"
      ],
      "execution_count": null,
      "outputs": []
    },
    {
      "cell_type": "markdown",
      "metadata": {
        "id": "S9MI-oQUvgFk"
      },
      "source": [
        "#### ___Exercise #3___\n",
        "성별에 따른 생존자 수를 나타내는 히스토그램을 그려보세요.\n",
        "- Figure 크기: (16, 8)\n",
        "- 제목: \"Sex vs. Survived\" (폰트 사이즈: 15)"
      ]
    },
    {
      "cell_type": "code",
      "metadata": {
        "id": "zFkLwl8KwEFE",
        "scrolled": true
      },
      "source": [
        "## 코드 작성\n"
      ],
      "execution_count": null,
      "outputs": []
    },
    {
      "cell_type": "markdown",
      "metadata": {
        "id": "10Cd0AjrzoWR"
      },
      "source": [
        "### __파이 차트(Pie Chart)__"
      ]
    },
    {
      "cell_type": "markdown",
      "metadata": {
        "id": "Q1W8DFikuyZ9"
      },
      "source": [
        "`pandas` `DataFrame`의 `plot` 기능을 활용하여 범주별 빈도수의 비율을 나타내는 파이 차트를 작성합니다. "
      ]
    },
    {
      "cell_type": "code",
      "metadata": {
        "id": "Y-2-icPuN23L",
        "scrolled": true
      },
      "source": [
        "titanic_data['Survived'].value_counts()"
      ],
      "execution_count": null,
      "outputs": []
    },
    {
      "cell_type": "code",
      "metadata": {
        "id": "GxcRxnyG2E5f"
      },
      "source": [
        "titanic_data['Sex'].value_counts()"
      ],
      "execution_count": null,
      "outputs": []
    },
    {
      "cell_type": "code",
      "metadata": {
        "id": "ZSCuE_qJzpMd",
        "scrolled": true
      },
      "source": [
        "f = titanic_data['Survived'].value_counts().plot.pie(autopct='%.1f%%')"
      ],
      "execution_count": null,
      "outputs": []
    },
    {
      "cell_type": "markdown",
      "metadata": {
        "id": "KlFCNk2g0hOu"
      },
      "source": [
        "#### ___Exercise #4___\n",
        "타이타닉호 탑승객의 남녀 성비를 나타내는 파이 차트를 그려보세요. "
      ]
    },
    {
      "cell_type": "code",
      "metadata": {
        "id": "RoL6T36Y0rSx",
        "scrolled": true
      },
      "source": [
        "## 코드 작성\n"
      ],
      "execution_count": null,
      "outputs": []
    },
    {
      "cell_type": "markdown",
      "metadata": {
        "id": "0C8VYY6Pw_Zd"
      },
      "source": [
        "### __막대 그래프(Bar Chart)__"
      ]
    },
    {
      "cell_type": "markdown",
      "metadata": {
        "id": "UfUr-JE5vCNi"
      },
      "source": [
        "`seaborn`의 `barplot`을 활용하여 막대 그래프를 작성합니다. "
      ]
    },
    {
      "cell_type": "code",
      "metadata": {
        "id": "cvV3xMspxEqf",
        "scrolled": true
      },
      "source": [
        "print(titanic_data.columns)"
      ],
      "execution_count": null,
      "outputs": []
    },
    {
      "cell_type": "code",
      "metadata": {
        "id": "tld7JpP4xN2I",
        "scrolled": true
      },
      "source": [
        "f = sns.barplot(x='PassengerId', y='Age', data=titanic_data.head())"
      ],
      "execution_count": null,
      "outputs": []
    },
    {
      "cell_type": "markdown",
      "metadata": {
        "id": "Yp5GU0aQxjXO"
      },
      "source": [
        "#### ___Exercise #5___\n",
        "`titanic_data`의 맨 위 8명의 승객의 `PassengerId`와 `Fare`를 순서대로 나타내는 막대 그래프를 그려보세요."
      ]
    },
    {
      "cell_type": "code",
      "metadata": {
        "id": "tCpYSdE_x5EQ",
        "scrolled": true
      },
      "source": [
        "## 코드 작성\n"
      ],
      "execution_count": null,
      "outputs": []
    },
    {
      "cell_type": "markdown",
      "metadata": {
        "id": "6XaUfNE5pzkW"
      },
      "source": [
        "### __팩터 플랏(Factor Plot)__"
      ]
    },
    {
      "cell_type": "markdown",
      "metadata": {
        "id": "AIjxz9d6vLFG"
      },
      "source": [
        "`seaborn`의 `catplot`을 활용하여 변수 간 관계를 나타내는 팩터 플랏을 작성합니다. "
      ]
    },
    {
      "cell_type": "code",
      "metadata": {
        "id": "nvFcdROZzUrP"
      },
      "source": [
        "f = sns.catplot(x='Pclass', y='Survived', hue='Sex', kind='point', data=titanic_data)"
      ],
      "execution_count": null,
      "outputs": []
    },
    {
      "cell_type": "markdown",
      "metadata": {
        "id": "lNmsxl2jcTWU"
      },
      "source": [
        "#### ___Exercise #6___\n",
        "탑승 항구(`Embarked`)와 생존여부(`Survived`) 간의 관계를 성별(`Sex`)로 나누어 나타내는 팩터 플랏을 그려보세요.\n"
      ]
    },
    {
      "cell_type": "code",
      "metadata": {
        "id": "9OjBk9U0cqH5",
        "scrolled": true
      },
      "source": [
        "## 코드 작성\n"
      ],
      "execution_count": null,
      "outputs": []
    },
    {
      "cell_type": "markdown",
      "metadata": {
        "id": "r0wTcb3HauVy"
      },
      "source": [
        "### __바이올린 도표(Violin Plot)__\n"
      ]
    },
    {
      "cell_type": "markdown",
      "metadata": {
        "id": "JLktG_mjvgm-"
      },
      "source": [
        "`seaborn`의 `violinplot`을 활용하여 여러 분포의 밀도를 효과적으로 시각화할 수 있는 바이올린 도표를 작성합니다. "
      ]
    },
    {
      "cell_type": "code",
      "metadata": {
        "id": "nbi4JQR3dLIJ"
      },
      "source": [
        "f = sns.violinplot(x='Pclass', y='Age', hue='Survived', data=titanic_data, split=True)"
      ],
      "execution_count": null,
      "outputs": []
    },
    {
      "cell_type": "markdown",
      "metadata": {
        "id": "egWx8vZ7eq63"
      },
      "source": [
        "#### ___Exercise #7___\n",
        "성별(`Sex`)과 나이(`Age`)에 따른 생존자와 사망자의 분포를 나타내는 바이올린 도표를 그려보세요. "
      ]
    },
    {
      "cell_type": "code",
      "metadata": {
        "id": "CRznu7fVfom6",
        "scrolled": true
      },
      "source": [
        "## 코드 작성\n"
      ],
      "execution_count": null,
      "outputs": []
    },
    {
      "cell_type": "markdown",
      "metadata": {
        "id": "ZRVnf1sb2E5i"
      },
      "source": [
        "### __히트맵(Heatmap)__"
      ]
    },
    {
      "cell_type": "code",
      "metadata": {
        "id": "4QRPlejM2E5i"
      },
      "source": [
        "f = sns.heatmap(titanic_data.corr())"
      ],
      "execution_count": null,
      "outputs": []
    }
  ]
}